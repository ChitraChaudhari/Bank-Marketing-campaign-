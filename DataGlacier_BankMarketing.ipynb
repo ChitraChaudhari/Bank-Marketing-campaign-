{
  "nbformat": 4,
  "nbformat_minor": 0,
  "metadata": {
    "colab": {
      "provenance": []
    },
    "kernelspec": {
      "name": "python3",
      "display_name": "Python 3"
    },
    "language_info": {
      "name": "python"
    }
  },
  "cells": [
    {
      "cell_type": "markdown",
      "source": [
        "<img src=\"https://www.talk-business.co.uk/wp-content/uploads/2015/09/bank_128318117.jpg\" width=\"100%\" height=\"300px\">"
      ],
      "metadata": {
        "id": "1w3a6Y2rMR-N"
      }
    },
    {
      "cell_type": "code",
      "source": [
        "# I think we could find a better image with a better width"
      ],
      "metadata": {
        "id": "AyG-eM9UOqwf"
      },
      "execution_count": null,
      "outputs": []
    },
    {
      "cell_type": "markdown",
      "source": [
        "# Data Glacier Data Science:: Bank Marketing (Campaign) -- Group Project\n",
        "# Bank Marketing (Campaign)\n",
        " \n",
        "\n",
        "Problem Statement:\n",
        "\n",
        "ABC Bank wants to sell it's term deposit product to customers and before launching the product they want to develop a model which help them in understanding whether a particular customer will buy their product or not (based on customer's past interaction with bank or other Financial Institution).\n",
        "\n",
        " \n",
        "\n",
        "Why ML Model: Bank wants to use ML model to shortlist customer whose chances of buying the product is more so that their marketing channel (tele marketing, SMS/email marketing etc)  can focus only to those customers whose chances of buying the product is more.\n",
        "\n",
        "This will save resource and their time ( which is directly involved in the cost ( resource billing)).\n",
        "\n",
        "Develop model with Duration and without duration feature and report the performance of the model.\n",
        "\n",
        "Duration feature is not recommended as this will be difficult to explain the result to business and also it will\n",
        "\n",
        "be difficult for business to campaign based on duration."
      ],
      "metadata": {
        "id": "50HAwdFuH6K9"
      }
    },
    {
      "cell_type": "markdown",
      "source": [
        "# Imports\n"
      ],
      "metadata": {
        "id": "PiOIKVqcGBX5"
      }
    },
    {
      "cell_type": "code",
      "source": [
        "!pip install modin"
      ],
      "metadata": {
        "id": "0dAGFbXR0v84"
      },
      "execution_count": null,
      "outputs": []
    },
    {
      "cell_type": "code",
      "source": [
        "import modin.pandas as pd"
      ],
      "metadata": {
        "id": "tTxkyca20QHR"
      },
      "execution_count": null,
      "outputs": []
    },
    {
      "cell_type": "markdown",
      "source": [
        "# Data Validation"
      ],
      "metadata": {
        "id": "rL1Z5psl1HMg"
      }
    },
    {
      "cell_type": "code",
      "source": [
        "from distributed import Client\n",
        "client = Client()"
      ],
      "metadata": {
        "id": "kK_T8IQT2TJN"
      },
      "execution_count": null,
      "outputs": []
    },
    {
      "cell_type": "code",
      "source": [
        "bank_df = pd.read_csv('bank.csv', sep=';')\n",
        "bank_full_df = pd.read_csv('/content/bank-full.csv', sep=';')\n",
        "ba_df = pd.read_csv('/content/bank-additional.csv', sep=';')\n",
        "baf_df = pd.read_csv('/content/bank-additional-full.csv', sep=';')"
      ],
      "metadata": {
        "id": "Ol9kq6bG1KiQ"
      },
      "execution_count": null,
      "outputs": []
    },
    {
      "cell_type": "code",
      "source": [
        "new_baf_df = baf_df.drop_duplicates()"
      ],
      "metadata": {
        "id": "TzPu040i2Cdg"
      },
      "execution_count": null,
      "outputs": []
    },
    {
      "cell_type": "code",
      "source": [
        "bank_df.shape"
      ],
      "metadata": {
        "colab": {
          "base_uri": "https://localhost:8080/"
        },
        "id": "TEoY-S4H2bEV",
        "outputId": "928854d4-4480-4ba8-a972-2a776a4fe2ba"
      },
      "execution_count": null,
      "outputs": [
        {
          "output_type": "execute_result",
          "data": {
            "text/plain": [
              "(4521, 17)"
            ]
          },
          "metadata": {},
          "execution_count": 7
        }
      ]
    },
    {
      "cell_type": "code",
      "source": [
        "if bank_df.shape[0] == 4521 and bank_df.shape[1] == 17:\n",
        "  print('Bank dataframe validated')\n",
        "else:\n",
        "  print('Upload your file again')  "
      ],
      "metadata": {
        "colab": {
          "base_uri": "https://localhost:8080/"
        },
        "id": "d7uh_hXg2dui",
        "outputId": "c7a27228-1e6e-4a50-b8a4-1e02a1b82651"
      },
      "execution_count": null,
      "outputs": [
        {
          "output_type": "stream",
          "name": "stdout",
          "text": [
            "Bank dataframe validated\n"
          ]
        }
      ]
    },
    {
      "cell_type": "code",
      "source": [
        "bank_full_df.shape"
      ],
      "metadata": {
        "colab": {
          "base_uri": "https://localhost:8080/"
        },
        "id": "O5pBmwQJ3FFk",
        "outputId": "349038b9-7388-4c02-e76b-4f8f1bb6154b"
      },
      "execution_count": null,
      "outputs": [
        {
          "output_type": "execute_result",
          "data": {
            "text/plain": [
              "(45211, 17)"
            ]
          },
          "metadata": {},
          "execution_count": 10
        }
      ]
    },
    {
      "cell_type": "code",
      "source": [
        "if bank_full_df.shape[0] == 45211 and bank_full_df.shape[1] == 17:\n",
        "  print('Bank-Full dataframe validated')\n",
        "else:\n",
        "  print('Upload your file again') "
      ],
      "metadata": {
        "colab": {
          "base_uri": "https://localhost:8080/"
        },
        "id": "9OGwzfQM3I9P",
        "outputId": "85a108c0-5e50-4e6e-e8f9-535a01836448"
      },
      "execution_count": null,
      "outputs": [
        {
          "output_type": "stream",
          "name": "stdout",
          "text": [
            "Bank-Full dataframe validated\n"
          ]
        }
      ]
    },
    {
      "cell_type": "code",
      "source": [
        "ba_df.shape"
      ],
      "metadata": {
        "colab": {
          "base_uri": "https://localhost:8080/"
        },
        "id": "ZBoG3XVd3nSD",
        "outputId": "390424b2-7568-495f-9432-5a4646753ad5"
      },
      "execution_count": null,
      "outputs": [
        {
          "output_type": "execute_result",
          "data": {
            "text/plain": [
              "(4119, 21)"
            ]
          },
          "metadata": {},
          "execution_count": 12
        }
      ]
    },
    {
      "cell_type": "code",
      "source": [
        "if ba_df.shape[0] == 4119 and ba_df.shape[1] == 21:\n",
        "  print('Bank-Additional dataframe validated')\n",
        "else:\n",
        "  print('Upload your file again') "
      ],
      "metadata": {
        "colab": {
          "base_uri": "https://localhost:8080/"
        },
        "id": "LxcF-Evq3o6e",
        "outputId": "09c91c84-3c6a-4a74-f48b-405d5b16b7ff"
      },
      "execution_count": null,
      "outputs": [
        {
          "output_type": "stream",
          "name": "stdout",
          "text": [
            "Bank-Additional dataframe validated\n"
          ]
        }
      ]
    },
    {
      "cell_type": "code",
      "source": [
        "new_baf_df.shape"
      ],
      "metadata": {
        "colab": {
          "base_uri": "https://localhost:8080/"
        },
        "id": "dMMXThmC4D1C",
        "outputId": "de835cbe-4321-4d06-c13e-4a6c6cdf59ca"
      },
      "execution_count": null,
      "outputs": [
        {
          "output_type": "execute_result",
          "data": {
            "text/plain": [
              "(41176, 21)"
            ]
          },
          "metadata": {},
          "execution_count": 14
        }
      ]
    },
    {
      "cell_type": "code",
      "source": [
        "if new_baf_df.shape[0] == 41176 and new_baf_df.shape[1] == 21:\n",
        "  print('Bank-Additional-Full dataframe validated')\n",
        "else:\n",
        "  print('Upload your file again') "
      ],
      "metadata": {
        "colab": {
          "base_uri": "https://localhost:8080/"
        },
        "id": "m9GoT64K4GSD",
        "outputId": "da47357d-00bc-4a5e-87d8-ff797f250b78"
      },
      "execution_count": null,
      "outputs": [
        {
          "output_type": "stream",
          "name": "stdout",
          "text": [
            "Bank-Additional-Full dataframe validated\n"
          ]
        }
      ]
    },
    {
      "cell_type": "markdown",
      "source": [
        "# Data Exploration"
      ],
      "metadata": {
        "id": "ouflyI-w4h0x"
      }
    },
    {
      "cell_type": "code",
      "source": [],
      "metadata": {
        "id": "Qzg6mWCr4m6p"
      },
      "execution_count": null,
      "outputs": []
    }
  ]
}