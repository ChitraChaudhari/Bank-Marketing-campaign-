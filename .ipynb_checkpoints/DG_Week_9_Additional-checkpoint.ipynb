{
 "cells": [
  {
   "cell_type": "markdown",
   "metadata": {
    "id": "a_bADx4NReSK"
   },
   "source": [
    "# Imports"
   ]
  },
  {
   "cell_type": "code",
   "execution_count": 1,
   "metadata": {
    "id": "SAtT4i1xRIkr"
   },
   "outputs": [],
   "source": [
    "import pandas as pd\n",
    "import numpy as np\n",
    "import seaborn as sns\n",
    "import plotly.express as px\n",
    "import matplotlib.pyplot as plt\n",
    "\n",
    "from sklearn.ensemble import RandomForestRegressor\n",
    "from sklearn.feature_selection import SelectFromModel\n",
    "from sklearn.model_selection import train_test_split\n",
    "\n",
    "from sklearn.feature_selection import RFE\n",
    "from sklearn.linear_model import LogisticRegression\n",
    "\n",
    "from sklearn.feature_selection import VarianceThreshold"
   ]
  },
  {
   "cell_type": "markdown",
   "metadata": {
    "id": "1HsCuupQRlFf"
   },
   "source": [
    "# Functions"
   ]
  },
  {
   "cell_type": "code",
   "execution_count": null,
   "metadata": {
    "id": "d9m0rmUHRt06"
   },
   "outputs": [],
   "source": [
    "def find_upper_outliers(dataframe, column_name):\n",
    "    c_name = dataframe[column_name]\n",
    "    mean = np.mean(c_name)\n",
    "    std = np.std(c_name)\n",
    "    outliers = [i for i in c_name if i > mean + (3 * std)]\n",
    "    outliers.sort()\n",
    "    print(\"How many outliers are there: \" + str(len(outliers)))\n",
    "    print(outliers[:10])\n",
    "    return outliers\n",
    "\n",
    "def find_lower_outliers(dataframe, column_name):\n",
    "    c_name = dataframe[column_name]\n",
    "    mean = np.mean(c_name)\n",
    "    std = np.std(c_name)\n",
    "    outliers = [i for i in c_name if i < mean - (3 * std)]\n",
    "    outliers.sort()\n",
    "    print(\"How many outliers are there: \" + str(len(outliers)))\n",
    "    print(outliers[-10:])\n",
    "    return outliers\n",
    "def variance_threshold_selector(data, thresh=0.0):\n",
    "    selector = VarianceThreshold(threshold=thresh)\n",
    "    selector.fit(data)\n",
    "    return [column for column in data.columns if not selector.get_support()[data.columns.get_loc(column)]]  "
   ]
  },
  {
   "cell_type": "markdown",
   "metadata": {
    "id": "51LOajqBRxTQ"
   },
   "source": [
    "# Data Cleansing and Data Transformation"
   ]
  },
  {
   "cell_type": "markdown",
   "metadata": {
    "id": "g98M8cpYR-Io"
   },
   "source": [
    "## First Data Frame"
   ]
  },
  {
   "cell_type": "code",
   "execution_count": null,
   "metadata": {
    "id": "hyyNAv78SC5_"
   },
   "outputs": [],
   "source": [
    "# First Dataframe is bank_a_df\n",
    "bank_a_df = pd.read_csv('/content/bank-additional.csv', sep=';')"
   ]
  },
  {
   "cell_type": "code",
   "execution_count": null,
   "metadata": {
    "colab": {
     "base_uri": "https://localhost:8080/",
     "height": 300
    },
    "id": "7L4Of_V9SoFX",
    "outputId": "7f90e79d-d75d-4a83-cbce-a14513ced1fe"
   },
   "outputs": [
    {
     "data": {
      "text/html": [
       "\n",
       "  <div id=\"df-da157ba2-c78d-4b4d-b68e-7e1dda2038b7\">\n",
       "    <div class=\"colab-df-container\">\n",
       "      <div>\n",
       "<style scoped>\n",
       "    .dataframe tbody tr th:only-of-type {\n",
       "        vertical-align: middle;\n",
       "    }\n",
       "\n",
       "    .dataframe tbody tr th {\n",
       "        vertical-align: top;\n",
       "    }\n",
       "\n",
       "    .dataframe thead th {\n",
       "        text-align: right;\n",
       "    }\n",
       "</style>\n",
       "<table border=\"1\" class=\"dataframe\">\n",
       "  <thead>\n",
       "    <tr style=\"text-align: right;\">\n",
       "      <th></th>\n",
       "      <th>age</th>\n",
       "      <th>job</th>\n",
       "      <th>marital</th>\n",
       "      <th>education</th>\n",
       "      <th>default</th>\n",
       "      <th>housing</th>\n",
       "      <th>loan</th>\n",
       "      <th>contact</th>\n",
       "      <th>month</th>\n",
       "      <th>day_of_week</th>\n",
       "      <th>...</th>\n",
       "      <th>campaign</th>\n",
       "      <th>pdays</th>\n",
       "      <th>previous</th>\n",
       "      <th>poutcome</th>\n",
       "      <th>emp.var.rate</th>\n",
       "      <th>cons.price.idx</th>\n",
       "      <th>cons.conf.idx</th>\n",
       "      <th>euribor3m</th>\n",
       "      <th>nr.employed</th>\n",
       "      <th>y</th>\n",
       "    </tr>\n",
       "  </thead>\n",
       "  <tbody>\n",
       "    <tr>\n",
       "      <th>3281</th>\n",
       "      <td>54</td>\n",
       "      <td>housemaid</td>\n",
       "      <td>married</td>\n",
       "      <td>basic.4y</td>\n",
       "      <td>no</td>\n",
       "      <td>yes</td>\n",
       "      <td>no</td>\n",
       "      <td>cellular</td>\n",
       "      <td>aug</td>\n",
       "      <td>tue</td>\n",
       "      <td>...</td>\n",
       "      <td>2</td>\n",
       "      <td>999</td>\n",
       "      <td>0</td>\n",
       "      <td>nonexistent</td>\n",
       "      <td>1.4</td>\n",
       "      <td>93.444</td>\n",
       "      <td>-36.1</td>\n",
       "      <td>4.963</td>\n",
       "      <td>5228.1</td>\n",
       "      <td>no</td>\n",
       "    </tr>\n",
       "    <tr>\n",
       "      <th>1988</th>\n",
       "      <td>48</td>\n",
       "      <td>admin.</td>\n",
       "      <td>divorced</td>\n",
       "      <td>high.school</td>\n",
       "      <td>no</td>\n",
       "      <td>no</td>\n",
       "      <td>no</td>\n",
       "      <td>telephone</td>\n",
       "      <td>may</td>\n",
       "      <td>tue</td>\n",
       "      <td>...</td>\n",
       "      <td>1</td>\n",
       "      <td>999</td>\n",
       "      <td>0</td>\n",
       "      <td>nonexistent</td>\n",
       "      <td>1.1</td>\n",
       "      <td>93.994</td>\n",
       "      <td>-36.4</td>\n",
       "      <td>4.856</td>\n",
       "      <td>5191.0</td>\n",
       "      <td>no</td>\n",
       "    </tr>\n",
       "    <tr>\n",
       "      <th>1458</th>\n",
       "      <td>38</td>\n",
       "      <td>management</td>\n",
       "      <td>married</td>\n",
       "      <td>university.degree</td>\n",
       "      <td>no</td>\n",
       "      <td>yes</td>\n",
       "      <td>no</td>\n",
       "      <td>cellular</td>\n",
       "      <td>aug</td>\n",
       "      <td>thu</td>\n",
       "      <td>...</td>\n",
       "      <td>2</td>\n",
       "      <td>999</td>\n",
       "      <td>0</td>\n",
       "      <td>nonexistent</td>\n",
       "      <td>-2.9</td>\n",
       "      <td>92.201</td>\n",
       "      <td>-31.4</td>\n",
       "      <td>0.873</td>\n",
       "      <td>5076.2</td>\n",
       "      <td>no</td>\n",
       "    </tr>\n",
       "    <tr>\n",
       "      <th>674</th>\n",
       "      <td>58</td>\n",
       "      <td>unemployed</td>\n",
       "      <td>married</td>\n",
       "      <td>university.degree</td>\n",
       "      <td>no</td>\n",
       "      <td>yes</td>\n",
       "      <td>no</td>\n",
       "      <td>cellular</td>\n",
       "      <td>nov</td>\n",
       "      <td>thu</td>\n",
       "      <td>...</td>\n",
       "      <td>2</td>\n",
       "      <td>999</td>\n",
       "      <td>0</td>\n",
       "      <td>nonexistent</td>\n",
       "      <td>-1.1</td>\n",
       "      <td>94.767</td>\n",
       "      <td>-50.8</td>\n",
       "      <td>1.041</td>\n",
       "      <td>4963.6</td>\n",
       "      <td>yes</td>\n",
       "    </tr>\n",
       "    <tr>\n",
       "      <th>4042</th>\n",
       "      <td>40</td>\n",
       "      <td>blue-collar</td>\n",
       "      <td>single</td>\n",
       "      <td>basic.9y</td>\n",
       "      <td>no</td>\n",
       "      <td>unknown</td>\n",
       "      <td>unknown</td>\n",
       "      <td>cellular</td>\n",
       "      <td>nov</td>\n",
       "      <td>wed</td>\n",
       "      <td>...</td>\n",
       "      <td>4</td>\n",
       "      <td>999</td>\n",
       "      <td>0</td>\n",
       "      <td>nonexistent</td>\n",
       "      <td>-0.1</td>\n",
       "      <td>93.200</td>\n",
       "      <td>-42.0</td>\n",
       "      <td>4.120</td>\n",
       "      <td>5195.8</td>\n",
       "      <td>no</td>\n",
       "    </tr>\n",
       "  </tbody>\n",
       "</table>\n",
       "<p>5 rows × 21 columns</p>\n",
       "</div>\n",
       "      <button class=\"colab-df-convert\" onclick=\"convertToInteractive('df-da157ba2-c78d-4b4d-b68e-7e1dda2038b7')\"\n",
       "              title=\"Convert this dataframe to an interactive table.\"\n",
       "              style=\"display:none;\">\n",
       "        \n",
       "  <svg xmlns=\"http://www.w3.org/2000/svg\" height=\"24px\"viewBox=\"0 0 24 24\"\n",
       "       width=\"24px\">\n",
       "    <path d=\"M0 0h24v24H0V0z\" fill=\"none\"/>\n",
       "    <path d=\"M18.56 5.44l.94 2.06.94-2.06 2.06-.94-2.06-.94-.94-2.06-.94 2.06-2.06.94zm-11 1L8.5 8.5l.94-2.06 2.06-.94-2.06-.94L8.5 2.5l-.94 2.06-2.06.94zm10 10l.94 2.06.94-2.06 2.06-.94-2.06-.94-.94-2.06-.94 2.06-2.06.94z\"/><path d=\"M17.41 7.96l-1.37-1.37c-.4-.4-.92-.59-1.43-.59-.52 0-1.04.2-1.43.59L10.3 9.45l-7.72 7.72c-.78.78-.78 2.05 0 2.83L4 21.41c.39.39.9.59 1.41.59.51 0 1.02-.2 1.41-.59l7.78-7.78 2.81-2.81c.8-.78.8-2.07 0-2.86zM5.41 20L4 18.59l7.72-7.72 1.47 1.35L5.41 20z\"/>\n",
       "  </svg>\n",
       "      </button>\n",
       "      \n",
       "  <style>\n",
       "    .colab-df-container {\n",
       "      display:flex;\n",
       "      flex-wrap:wrap;\n",
       "      gap: 12px;\n",
       "    }\n",
       "\n",
       "    .colab-df-convert {\n",
       "      background-color: #E8F0FE;\n",
       "      border: none;\n",
       "      border-radius: 50%;\n",
       "      cursor: pointer;\n",
       "      display: none;\n",
       "      fill: #1967D2;\n",
       "      height: 32px;\n",
       "      padding: 0 0 0 0;\n",
       "      width: 32px;\n",
       "    }\n",
       "\n",
       "    .colab-df-convert:hover {\n",
       "      background-color: #E2EBFA;\n",
       "      box-shadow: 0px 1px 2px rgba(60, 64, 67, 0.3), 0px 1px 3px 1px rgba(60, 64, 67, 0.15);\n",
       "      fill: #174EA6;\n",
       "    }\n",
       "\n",
       "    [theme=dark] .colab-df-convert {\n",
       "      background-color: #3B4455;\n",
       "      fill: #D2E3FC;\n",
       "    }\n",
       "\n",
       "    [theme=dark] .colab-df-convert:hover {\n",
       "      background-color: #434B5C;\n",
       "      box-shadow: 0px 1px 3px 1px rgba(0, 0, 0, 0.15);\n",
       "      filter: drop-shadow(0px 1px 2px rgba(0, 0, 0, 0.3));\n",
       "      fill: #FFFFFF;\n",
       "    }\n",
       "  </style>\n",
       "\n",
       "      <script>\n",
       "        const buttonEl =\n",
       "          document.querySelector('#df-da157ba2-c78d-4b4d-b68e-7e1dda2038b7 button.colab-df-convert');\n",
       "        buttonEl.style.display =\n",
       "          google.colab.kernel.accessAllowed ? 'block' : 'none';\n",
       "\n",
       "        async function convertToInteractive(key) {\n",
       "          const element = document.querySelector('#df-da157ba2-c78d-4b4d-b68e-7e1dda2038b7');\n",
       "          const dataTable =\n",
       "            await google.colab.kernel.invokeFunction('convertToInteractive',\n",
       "                                                     [key], {});\n",
       "          if (!dataTable) return;\n",
       "\n",
       "          const docLinkHtml = 'Like what you see? Visit the ' +\n",
       "            '<a target=\"_blank\" href=https://colab.research.google.com/notebooks/data_table.ipynb>data table notebook</a>'\n",
       "            + ' to learn more about interactive tables.';\n",
       "          element.innerHTML = '';\n",
       "          dataTable['output_type'] = 'display_data';\n",
       "          await google.colab.output.renderOutput(dataTable, element);\n",
       "          const docLink = document.createElement('div');\n",
       "          docLink.innerHTML = docLinkHtml;\n",
       "          element.appendChild(docLink);\n",
       "        }\n",
       "      </script>\n",
       "    </div>\n",
       "  </div>\n",
       "  "
      ],
      "text/plain": [
       "      age          job   marital          education default  housing     loan  \\\n",
       "3281   54    housemaid   married           basic.4y      no      yes       no   \n",
       "1988   48       admin.  divorced        high.school      no       no       no   \n",
       "1458   38   management   married  university.degree      no      yes       no   \n",
       "674    58   unemployed   married  university.degree      no      yes       no   \n",
       "4042   40  blue-collar    single           basic.9y      no  unknown  unknown   \n",
       "\n",
       "        contact month day_of_week  ...  campaign  pdays  previous  \\\n",
       "3281   cellular   aug         tue  ...         2    999         0   \n",
       "1988  telephone   may         tue  ...         1    999         0   \n",
       "1458   cellular   aug         thu  ...         2    999         0   \n",
       "674    cellular   nov         thu  ...         2    999         0   \n",
       "4042   cellular   nov         wed  ...         4    999         0   \n",
       "\n",
       "         poutcome emp.var.rate  cons.price.idx  cons.conf.idx  euribor3m  \\\n",
       "3281  nonexistent          1.4          93.444          -36.1      4.963   \n",
       "1988  nonexistent          1.1          93.994          -36.4      4.856   \n",
       "1458  nonexistent         -2.9          92.201          -31.4      0.873   \n",
       "674   nonexistent         -1.1          94.767          -50.8      1.041   \n",
       "4042  nonexistent         -0.1          93.200          -42.0      4.120   \n",
       "\n",
       "      nr.employed    y  \n",
       "3281       5228.1   no  \n",
       "1988       5191.0   no  \n",
       "1458       5076.2   no  \n",
       "674        4963.6  yes  \n",
       "4042       5195.8   no  \n",
       "\n",
       "[5 rows x 21 columns]"
      ]
     },
     "execution_count": 268,
     "metadata": {},
     "output_type": "execute_result"
    }
   ],
   "source": [
    "bank_a_df.sample(5)"
   ]
  },
  {
   "cell_type": "code",
   "execution_count": null,
   "metadata": {
    "colab": {
     "base_uri": "https://localhost:8080/"
    },
    "id": "5xCvBxa5TinK",
    "outputId": "507eaeb2-1aaa-458a-edae-46770685b7cc"
   },
   "outputs": [
    {
     "data": {
      "text/plain": [
       "(4119, 21)"
      ]
     },
     "execution_count": 269,
     "metadata": {},
     "output_type": "execute_result"
    }
   ],
   "source": [
    "bank_a_df.shape"
   ]
  },
  {
   "cell_type": "code",
   "execution_count": null,
   "metadata": {
    "colab": {
     "base_uri": "https://localhost:8080/"
    },
    "id": "e8dvqPxHTqC2",
    "outputId": "7568e47a-ad0b-4e97-fac8-8c23900d161b"
   },
   "outputs": [
    {
     "name": "stdout",
     "output_type": "stream",
     "text": [
      "Any NaN values? False\n",
      "Any duplicates? False\n"
     ]
    }
   ],
   "source": [
    "print(f'Any NaN values? {bank_a_df.isna().values.any()}')\n",
    "print(f'Any duplicates? {bank_a_df.duplicated().values.any()}')"
   ]
  },
  {
   "cell_type": "markdown",
   "metadata": {
    "id": "RDycmiooUB_j"
   },
   "source": [
    "There are no Nan values or duplicates in the bank dataframe. Let's check for outliers."
   ]
  },
  {
   "cell_type": "code",
   "execution_count": null,
   "metadata": {
    "colab": {
     "base_uri": "https://localhost:8080/"
    },
    "id": "dfYMdZm4U5lD",
    "outputId": "e27b787e-b6b2-40d8-948f-c7047dac7831"
   },
   "outputs": [
    {
     "data": {
      "text/plain": [
       "Index(['age', 'job', 'marital', 'education', 'default', 'housing', 'loan',\n",
       "       'contact', 'month', 'day_of_week', 'duration', 'campaign', 'pdays',\n",
       "       'previous', 'poutcome', 'emp.var.rate', 'cons.price.idx',\n",
       "       'cons.conf.idx', 'euribor3m', 'nr.employed', 'y'],\n",
       "      dtype='object')"
      ]
     },
     "execution_count": 271,
     "metadata": {},
     "output_type": "execute_result"
    }
   ],
   "source": [
    "bank_a_df.columns"
   ]
  },
  {
   "cell_type": "code",
   "execution_count": null,
   "metadata": {
    "colab": {
     "base_uri": "https://localhost:8080/"
    },
    "id": "v9-hsRM9UQiU",
    "outputId": "55615dd1-b53f-4483-a6cc-4117a7b90955"
   },
   "outputs": [
    {
     "name": "stdout",
     "output_type": "stream",
     "text": [
      "<class 'pandas.core.frame.DataFrame'>\n",
      "RangeIndex: 4119 entries, 0 to 4118\n",
      "Data columns (total 21 columns):\n",
      " #   Column          Non-Null Count  Dtype  \n",
      "---  ------          --------------  -----  \n",
      " 0   age             4119 non-null   int64  \n",
      " 1   job             4119 non-null   object \n",
      " 2   marital         4119 non-null   object \n",
      " 3   education       4119 non-null   object \n",
      " 4   default         4119 non-null   object \n",
      " 5   housing         4119 non-null   object \n",
      " 6   loan            4119 non-null   object \n",
      " 7   contact         4119 non-null   object \n",
      " 8   month           4119 non-null   object \n",
      " 9   day_of_week     4119 non-null   object \n",
      " 10  duration        4119 non-null   int64  \n",
      " 11  campaign        4119 non-null   int64  \n",
      " 12  pdays           4119 non-null   int64  \n",
      " 13  previous        4119 non-null   int64  \n",
      " 14  poutcome        4119 non-null   object \n",
      " 15  emp.var.rate    4119 non-null   float64\n",
      " 16  cons.price.idx  4119 non-null   float64\n",
      " 17  cons.conf.idx   4119 non-null   float64\n",
      " 18  euribor3m       4119 non-null   float64\n",
      " 19  nr.employed     4119 non-null   float64\n",
      " 20  y               4119 non-null   object \n",
      "dtypes: float64(5), int64(5), object(11)\n",
      "memory usage: 675.9+ KB\n"
     ]
    }
   ],
   "source": [
    "bank_a_df.info()"
   ]
  },
  {
   "cell_type": "code",
   "execution_count": null,
   "metadata": {
    "id": "zKcCFbgvUFHb"
   },
   "outputs": [],
   "source": [
    "numerical_cols = ['age', 'duration', 'campaign', 'pdays', 'previous', 'emp.var.rate', 'cons.price.idx', 'cons.conf.idx', 'euribor3m', 'nr.employed']\n"
   ]
  },
  {
   "cell_type": "code",
   "execution_count": null,
   "metadata": {
    "colab": {
     "base_uri": "https://localhost:8080/",
     "height": 729
    },
    "id": "WDkRlGxGXAvW",
    "outputId": "1e7e1160-a1fd-4804-c764-3d64b70976d9"
   },
   "outputs": [
    {
     "data": {
      "image/png": "[encoded data removed]",
      "text/plain": [
       "<Figure size 1080x864 with 10 Axes>"
      ]
     },
     "metadata": {},
     "output_type": "display_data"
    }
   ],
   "source": [
    "dataset1 = bank_a_df.drop(columns=['job','marital', 'education', 'default', 'housing',\n",
    "       'loan', 'contact','month','day_of_week','poutcome','y'])\n",
    "\n",
    "fig = plt.figure(figsize=(15,12))\n",
    "plt.suptitle(\"Histogram of numerical column\", fontsize=20)\n",
    "\n",
    "for i in range(dataset1.shape[1]):\n",
    "    plt.subplot(6,2,i+1)\n",
    "    f= plt.gca()\n",
    "    f.set_title(dataset1.columns.values[i])\n",
    "    \n",
    "    vals = np.size(dataset1.iloc[:,i].unique())\n",
    "    if vals>=100:\n",
    "        vals=100\n",
    "    \n",
    "    plt.hist(dataset1.iloc[:,i], bins= vals, color=\"#3F5D7D\")\n",
    "    \n",
    "plt.tight_layout(rect=[0,0.03,1,0.95])"
   ]
  },
  {
   "cell_type": "markdown",
   "metadata": {
    "id": "LewGAkn2XRmN"
   },
   "source": [
    "Let's check lower outliers"
   ]
  },
  {
   "cell_type": "code",
   "execution_count": null,
   "metadata": {
    "colab": {
     "base_uri": "https://localhost:8080/"
    },
    "id": "ELRIltp1XRBV",
    "outputId": "48a2b390-d97c-4fb3-e2f6-25e76f052ce0"
   },
   "outputs": [
    {
     "name": "stdout",
     "output_type": "stream",
     "text": [
      "age\n",
      "How many outliers are there: 0\n",
      "[]\n",
      "duration\n",
      "How many outliers are there: 0\n",
      "[]\n",
      "campaign\n",
      "How many outliers are there: 0\n",
      "[]\n",
      "pdays\n",
      "How many outliers are there: 160\n",
      "[14, 15, 15, 16, 16, 17, 18, 18, 19, 21]\n",
      "previous\n",
      "How many outliers are there: 0\n",
      "[]\n",
      "emp.var.rate\n",
      "How many outliers are there: 0\n",
      "[]\n",
      "cons.price.idx\n",
      "How many outliers are there: 0\n",
      "[]\n",
      "cons.conf.idx\n",
      "How many outliers are there: 0\n",
      "[]\n",
      "euribor3m\n",
      "How many outliers are there: 0\n",
      "[]\n",
      "nr.employed\n",
      "How many outliers are there: 0\n",
      "[]\n"
     ]
    }
   ],
   "source": [
    "for col_name in numerical_cols:\n",
    "  print(col_name)\n",
    "  outliers = find_lower_outliers(bank_a_df, col_name)"
   ]
  },
  {
   "cell_type": "code",
   "execution_count": null,
   "metadata": {
    "colab": {
     "base_uri": "https://localhost:8080/"
    },
    "id": "JGmcTy6WZuet",
    "outputId": "c56c81b8-6cce-4ef2-cc41-65036beda35e"
   },
   "outputs": [
    {
     "name": "stdout",
     "output_type": "stream",
     "text": [
      "How many outliers are there: 160\n",
      "[14, 15, 15, 16, 16, 17, 18, 18, 19, 21]\n"
     ]
    }
   ],
   "source": [
    "outliers_pdays = find_lower_outliers(bank_a_df, 'pdays')"
   ]
  },
  {
   "cell_type": "code",
   "execution_count": null,
   "metadata": {
    "colab": {
     "base_uri": "https://localhost:8080/"
    },
    "id": "T0Mtg54laZVw",
    "outputId": "977bd395-9cb9-4b72-e0ba-2a298e47a7fd"
   },
   "outputs": [
    {
     "data": {
      "text/plain": [
       "[0, 0, 1, 1, 1, 2, 2, 2, 2, 3]"
      ]
     },
     "execution_count": 277,
     "metadata": {},
     "output_type": "execute_result"
    }
   ],
   "source": [
    "outliers_pdays[:10]"
   ]
  },
  {
   "cell_type": "markdown",
   "metadata": {
    "id": "XAU8Yp1lXh5l"
   },
   "source": [
    "Only the PDAYS column has lower outliers. Let's check upper outliers"
   ]
  },
  {
   "cell_type": "code",
   "execution_count": null,
   "metadata": {
    "colab": {
     "base_uri": "https://localhost:8080/"
    },
    "id": "QWlOd-w-YEDU",
    "outputId": "67422c03-b130-4991-83bb-82106d6f8973"
   },
   "outputs": [
    {
     "name": "stdout",
     "output_type": "stream",
     "text": [
      "age\n",
      "How many outliers are there: 32\n",
      "[72, 72, 73, 73, 73, 74, 74, 74, 75, 75]\n",
      "duration\n",
      "How many outliers are there: 87\n",
      "[1045, 1046, 1058, 1062, 1065, 1067, 1068, 1074, 1076, 1087]\n",
      "campaign\n",
      "How many outliers are there: 87\n",
      "[11, 11, 11, 11, 11, 11, 11, 11, 11, 11]\n",
      "pdays\n",
      "How many outliers are there: 0\n",
      "[]\n",
      "previous\n",
      "How many outliers are there: 121\n",
      "[2, 2, 2, 2, 2, 2, 2, 2, 2, 2]\n",
      "emp.var.rate\n",
      "How many outliers are there: 0\n",
      "[]\n",
      "cons.price.idx\n",
      "How many outliers are there: 0\n",
      "[]\n",
      "cons.conf.idx\n",
      "How many outliers are there: 0\n",
      "[]\n",
      "euribor3m\n",
      "How many outliers are there: 0\n",
      "[]\n",
      "nr.employed\n",
      "How many outliers are there: 0\n",
      "[]\n"
     ]
    }
   ],
   "source": [
    "for col_name in numerical_cols:\n",
    "  print(col_name)\n",
    "  outliers = find_upper_outliers(bank_a_df, col_name)"
   ]
  },
  {
   "cell_type": "markdown",
   "metadata": {
    "id": "jbTV7GjEYQLL"
   },
   "source": [
    "Age, duration, campaign and previous columns have upper outliers."
   ]
  },
  {
   "cell_type": "markdown",
   "metadata": {
    "id": "IZ6ZxlWfYvIT"
   },
   "source": [
    "## Handling Outliers"
   ]
  },
  {
   "cell_type": "code",
   "execution_count": null,
   "metadata": {
    "id": "mVKQXAtdY3Cs"
   },
   "outputs": [],
   "source": [
    "# pdays: drop outliers \n",
    "# campaign: drop outliers\n",
    "# previous: drop outliers\n",
    "# for age and duration columns apply logorithmic transformation"
   ]
  },
  {
   "cell_type": "code",
   "execution_count": null,
   "metadata": {
    "colab": {
     "base_uri": "https://localhost:8080/"
    },
    "id": "pNQQ32EIcPss",
    "outputId": "5338d776-1499-45ef-9232-cfeb664f745d"
   },
   "outputs": [
    {
     "data": {
      "text/plain": [
       "(3959, 21)"
      ]
     },
     "execution_count": 280,
     "metadata": {},
     "output_type": "execute_result"
    }
   ],
   "source": [
    "# dropping outliers from pdays column\n",
    "bank_a_df = bank_a_df[bank_a_df['pdays'] > 21]\n",
    "bank_a_df.shape"
   ]
  },
  {
   "cell_type": "code",
   "execution_count": null,
   "metadata": {
    "colab": {
     "base_uri": "https://localhost:8080/"
    },
    "id": "8pELHKFEcvKD",
    "outputId": "04af61f9-873a-414a-b20f-85dc21b7952a"
   },
   "outputs": [
    {
     "data": {
      "text/plain": [
       "(3872, 21)"
      ]
     },
     "execution_count": 281,
     "metadata": {},
     "output_type": "execute_result"
    }
   ],
   "source": [
    "# dropping outliers from campaign column\n",
    "bank_a_df = bank_a_df[bank_a_df['campaign'] < 11]\n",
    "bank_a_df.shape"
   ]
  },
  {
   "cell_type": "code",
   "execution_count": null,
   "metadata": {
    "colab": {
     "base_uri": "https://localhost:8080/"
    },
    "id": "ZWOwyd4AdKLa",
    "outputId": "712d0fec-5a7d-405a-f3d7-e720673ebffd"
   },
   "outputs": [
    {
     "data": {
      "text/plain": [
       "(3820, 21)"
      ]
     },
     "execution_count": 282,
     "metadata": {},
     "output_type": "execute_result"
    }
   ],
   "source": [
    "# dropping outliers from previous column\n",
    "bank_a_df = bank_a_df[bank_a_df['previous'] < 2]\n",
    "bank_a_df.shape"
   ]
  },
  {
   "cell_type": "code",
   "execution_count": null,
   "metadata": {
    "id": "WEdrVjKKlVYc"
   },
   "outputs": [],
   "source": [
    "bank_a_df = bank_a_df[bank_a_df['duration'] > 0]"
   ]
  },
  {
   "cell_type": "code",
   "execution_count": null,
   "metadata": {
    "colab": {
     "base_uri": "https://localhost:8080/"
    },
    "id": "l0_Dl6zMlcv5",
    "outputId": "e8c56d8f-b1f2-4578-b60c-a77f9a5fda18"
   },
   "outputs": [
    {
     "data": {
      "text/plain": [
       "(3819, 21)"
      ]
     },
     "execution_count": 284,
     "metadata": {},
     "output_type": "execute_result"
    }
   ],
   "source": [
    "bank_a_df.shape"
   ]
  },
  {
   "cell_type": "code",
   "execution_count": null,
   "metadata": {
    "colab": {
     "base_uri": "https://localhost:8080/"
    },
    "id": "R7vKdH1Nd1Y5",
    "outputId": "e1eb9033-4d76-4854-8eb1-b42f5194fbff"
   },
   "outputs": [
    {
     "name": "stderr",
     "output_type": "stream",
     "text": [
      "<ipython-input-285-6dbd7e5d592d>:2: SettingWithCopyWarning: \n",
      "A value is trying to be set on a copy of a slice from a DataFrame.\n",
      "Try using .loc[row_indexer,col_indexer] = value instead\n",
      "\n",
      "See the caveats in the documentation: https://pandas.pydata.org/pandas-docs/stable/user_guide/indexing.html#returning-a-view-versus-a-copy\n",
      "  bank_a_df['log_age'] = np.log(bank_a_df['age'])\n",
      "<ipython-input-285-6dbd7e5d592d>:3: SettingWithCopyWarning: \n",
      "A value is trying to be set on a copy of a slice from a DataFrame.\n",
      "Try using .loc[row_indexer,col_indexer] = value instead\n",
      "\n",
      "See the caveats in the documentation: https://pandas.pydata.org/pandas-docs/stable/user_guide/indexing.html#returning-a-view-versus-a-copy\n",
      "  bank_a_df['log_duration'] = np.log(bank_a_df['duration'])\n"
     ]
    }
   ],
   "source": [
    "# Logarithmic Transformation for age and duration columns\n",
    "bank_a_df['log_age'] = np.log(bank_a_df['age'])\n",
    "bank_a_df['log_duration'] = np.log(bank_a_df['duration'])"
   ]
  },
  {
   "cell_type": "code",
   "execution_count": null,
   "metadata": {
    "colab": {
     "base_uri": "https://localhost:8080/"
    },
    "id": "zn_pZLxCeDlb",
    "outputId": "05529813-1c25-4041-ccc7-1381baefdbbe"
   },
   "outputs": [
    {
     "name": "stderr",
     "output_type": "stream",
     "text": [
      "/usr/local/lib/python3.8/dist-packages/pandas/core/frame.py:4906: SettingWithCopyWarning: \n",
      "A value is trying to be set on a copy of a slice from a DataFrame\n",
      "\n",
      "See the caveats in the documentation: https://pandas.pydata.org/pandas-docs/stable/user_guide/indexing.html#returning-a-view-versus-a-copy\n",
      "  return super().drop(\n"
     ]
    }
   ],
   "source": [
    "bank_a_df.drop(columns=['age', 'duration'], inplace=True, axis=1)"
   ]
  },
  {
   "cell_type": "markdown",
   "metadata": {
    "id": "CfuuY2mzl5ol"
   },
   "source": [
    "## Feature Selection"
   ]
  },
  {
   "cell_type": "code",
   "execution_count": null,
   "metadata": {
    "colab": {
     "base_uri": "https://localhost:8080/"
    },
    "id": "yWTXwZmmmXLZ",
    "outputId": "83329419-0ac9-4ed8-a3e0-06dcb55971e2"
   },
   "outputs": [
    {
     "data": {
      "text/plain": [
       "['age',\n",
       " 'duration',\n",
       " 'campaign',\n",
       " 'pdays',\n",
       " 'previous',\n",
       " 'emp.var.rate',\n",
       " 'cons.price.idx',\n",
       " 'cons.conf.idx',\n",
       " 'euribor3m',\n",
       " 'nr.employed']"
      ]
     },
     "execution_count": 287,
     "metadata": {},
     "output_type": "execute_result"
    }
   ],
   "source": [
    "numerical_cols"
   ]
  },
  {
   "cell_type": "code",
   "execution_count": null,
   "metadata": {
    "id": "HPoL3QQpmIZZ"
   },
   "outputs": [],
   "source": [
    "dataset = bank_a_df.drop(columns=['log_age', 'log_duration',\n",
    " 'campaign',\n",
    " 'pdays',\n",
    " 'previous',\n",
    " 'emp.var.rate',\n",
    " 'cons.price.idx',\n",
    " 'cons.conf.idx',\n",
    " 'euribor3m',\n",
    " 'nr.employed'])"
   ]
  },
  {
   "cell_type": "code",
   "execution_count": null,
   "metadata": {
    "colab": {
     "base_uri": "https://localhost:8080/",
     "height": 1000
    },
    "id": "4TryDfpVm6KX",
    "outputId": "6cb5cc1c-4b47-42e8-b2e1-e76d5ffde0da"
   },
   "outputs": [
    {
     "data": {
      "image/png": "[encoded data removed]",
      "text/plain": [
       "<Figure size 864x1440 with 11 Axes>"
      ]
     },
     "metadata": {},
     "output_type": "display_data"
    }
   ],
   "source": [
    "fig = plt.figure(figsize=(12,20))\n",
    "plt.suptitle('Pie chart distribution', fontsize=20)\n",
    "\n",
    "for i in range(1, dataset.shape[1]+1):\n",
    "    plt.subplot(6,2,i)\n",
    "    f=plt.gca()\n",
    "    f.axes.get_yaxis().set_visible(False)\n",
    "    f.set_title(dataset.columns.values[i-1])\n",
    "    \n",
    "    values = dataset.iloc[:,i-1].value_counts(normalize = True).values\n",
    "    index = dataset.iloc[:,i-1].value_counts(normalize = True).index\n",
    "    \n",
    "    plt.pie(values, labels=index, autopct='%1.1f%%')\n",
    "    plt.axis('equal')\n",
    "\n",
    "plt.tight_layout(rect=[0,0.03,1,0.95])"
   ]
  },
  {
   "cell_type": "markdown",
   "metadata": {
    "id": "PyMli3jZnsyd"
   },
   "source": [
    "## Transformation of Categorical Variables"
   ]
  },
  {
   "cell_type": "code",
   "execution_count": null,
   "metadata": {
    "id": "9jJ879I-n4Cg"
   },
   "outputs": [],
   "source": [
    "bank_a_df['y'].replace(['no', 'yes'], [0, 1], inplace=True)"
   ]
  },
  {
   "cell_type": "code",
   "execution_count": null,
   "metadata": {
    "id": "fRI7OreboBfQ"
   },
   "outputs": [],
   "source": [
    "#identify all categorical variables\n",
    "cat_columns = bank_a_df.select_dtypes(['object']).columns\n",
    "\n",
    "#convert all categorical variables to numeric\n",
    "bank_a_df[cat_columns] = bank_a_df[cat_columns].apply(lambda x: pd.factorize(x)[0])"
   ]
  },
  {
   "cell_type": "markdown",
   "metadata": {
    "id": "jX0cS7KZoYfl"
   },
   "source": [
    "## Important Features"
   ]
  },
  {
   "cell_type": "code",
   "execution_count": null,
   "metadata": {
    "colab": {
     "base_uri": "https://localhost:8080/"
    },
    "id": "8otJ1tQTocEu",
    "outputId": "1bb434a0-98e8-4209-84f6-8a6befac9f9b"
   },
   "outputs": [
    {
     "name": "stdout",
     "output_type": "stream",
     "text": [
      "Selected feature names: ['euribor3m', 'nr.employed', 'log_age', 'log_duration']\n",
      "Selected feature indices: [16 17 18 19]\n"
     ]
    }
   ],
   "source": [
    "target = bank_a_df['y']\n",
    "features = bank_a_df.drop('y', axis=1)\n",
    "\n",
    "# train_test_split(X, y, test_size=0.2, random_state=42, shuffle=True, stratify=None)\n",
    "X_train, X_test, y_train, y_test = train_test_split(features, \n",
    "                                                    target, \n",
    "                                                    test_size=0.2, \n",
    "                                                      random_state=10, shuffle=True, stratify=None)\n",
    "\n",
    "# train random forest regressor\n",
    "rf = RandomForestRegressor(n_estimators = 1000)\n",
    "rf.fit(X_train, y_train)\n",
    "\n",
    "# Perform feature selection with feature names\n",
    "selector = SelectFromModel(rf, threshold='mean', prefit=True, max_features=18, importance_getter=lambda x: x.feature_importances_)\n",
    "X_train_new = selector.transform(X_train.values)\n",
    "X_test_new = selector.transform(X_test.values)\n",
    "\n",
    "# Get selected feature names\n",
    "selected_feature_names = [features.columns[i] for i in selector.get_support(indices=True)]\n",
    "\n",
    "# Print selected feature names and indices\n",
    "print('Selected feature names:', selected_feature_names)\n",
    "print('Selected feature indices:', selector.get_support(indices=True))"
   ]
  },
  {
   "cell_type": "code",
   "execution_count": null,
   "metadata": {
    "colab": {
     "base_uri": "https://localhost:8080/"
    },
    "id": "4IRIt2Alo1QW",
    "outputId": "d96cf3c7-1940-45d7-8a5a-c36587fd9141"
   },
   "outputs": [
    {
     "name": "stdout",
     "output_type": "stream",
     "text": [
      "Feature ranking: [12  6 11  9 13  5  1  4 10  8  3  2  1  1  1  7 15 16 14  1]\n",
      "Selected feature names: ['euribor3m', 'nr.employed', 'log_age', 'log_duration']\n",
      "Selected features indeces: [ 6 12 13 14 19]\n"
     ]
    }
   ],
   "source": [
    "# Feature Selection with Recursive feature elimination (RFE)\n",
    "\n",
    "lr = LogisticRegression(max_iter=10000)\n",
    "\n",
    "# Perform RFE to select the top 10 features\n",
    "rfe = RFE(estimator=lr, n_features_to_select=5, step=1)\n",
    "rfe.fit(X_train, y_train)\n",
    "\n",
    "# Print the feature ranking\n",
    "print(\"Feature ranking:\", rfe.ranking_)\n",
    "\n",
    "# Get selected feature names\n",
    "selected_feature_names = [features.columns[i] for i in selector.get_support(indices=True)]\n",
    "\n",
    "# Print the indices of the selected features\n",
    "print('Selected feature names:', selected_feature_names)\n",
    "print(\"Selected features indeces:\", rfe.get_support(indices=True))"
   ]
  },
  {
   "cell_type": "code",
   "execution_count": null,
   "metadata": {
    "colab": {
     "base_uri": "https://localhost:8080/"
    },
    "id": "5ByuNtuHpAc8",
    "outputId": "227f3115-e0e3-45d8-9295-d7df8c9cfdd1"
   },
   "outputs": [
    {
     "data": {
      "text/plain": [
       "20"
      ]
     },
     "execution_count": 294,
     "metadata": {},
     "output_type": "execute_result"
    }
   ],
   "source": [
    "feature_ranking = [12, 6, 11, 9, 13, 5, 1, 4, 10, 8, 3, 2, 1, 1, 1, 7, 15, 16, 14, 1]\n",
    "len(feature_ranking)"
   ]
  },
  {
   "cell_type": "code",
   "execution_count": null,
   "metadata": {
    "colab": {
     "base_uri": "https://localhost:8080/"
    },
    "id": "0O7zrd9DphFu",
    "outputId": "68cdb6b5-8c74-4973-bd97-d6ea3a91bd18"
   },
   "outputs": [
    {
     "data": {
      "text/plain": [
       "Index(['job', 'marital', 'education', 'default', 'housing', 'loan', 'contact',\n",
       "       'month', 'day_of_week', 'campaign', 'pdays', 'previous', 'poutcome',\n",
       "       'emp.var.rate', 'cons.price.idx', 'cons.conf.idx', 'euribor3m',\n",
       "       'nr.employed', 'log_age', 'log_duration'],\n",
       "      dtype='object')"
      ]
     },
     "execution_count": 295,
     "metadata": {},
     "output_type": "execute_result"
    }
   ],
   "source": [
    "X_train.columns"
   ]
  },
  {
   "cell_type": "code",
   "execution_count": null,
   "metadata": {
    "colab": {
     "base_uri": "https://localhost:8080/"
    },
    "id": "csWuy85Fpn1S",
    "outputId": "1adc9d27-3e8e-4073-d60a-7b14b1ffa4cc"
   },
   "outputs": [
    {
     "data": {
      "text/plain": [
       "20"
      ]
     },
     "execution_count": 296,
     "metadata": {},
     "output_type": "execute_result"
    }
   ],
   "source": [
    "\n",
    "column_names = ['job', 'marital', 'education', 'default', 'housing', 'loan', 'contact', 'month', 'day_of_week', 'campaign', 'pdays', 'previous', 'poutcome', 'emp.var.rate', 'cons.price.idx', 'cons.conf.idx', 'euribor3m', 'nr.employed', 'log_age', 'log_duration']\n",
    "len(column_names)"
   ]
  },
  {
   "cell_type": "code",
   "execution_count": null,
   "metadata": {
    "colab": {
     "base_uri": "https://localhost:8080/",
     "height": 468
    },
    "id": "-CiXLoNIquBZ",
    "outputId": "9a35842b-83df-4b57-aa7e-2f0f43c52801"
   },
   "outputs": [
    {
     "data": {
      "image/png": "[encoded data removed]",
      "text/plain": [
       "<Figure size 720x432 with 1 Axes>"
      ]
     },
     "metadata": {},
     "output_type": "display_data"
    }
   ],
   "source": [
    "# create a pandas dataframe\n",
    "df = pd.DataFrame({'feature_ranking': feature_ranking, 'column_names': column_names})\n",
    "# plot a bar graph using seaborn\n",
    "sns.set_style(\"whitegrid\")\n",
    "plt.figure(figsize=(10,6))\n",
    "ax = sns.barplot(x=\"column_names\", y=\"feature_ranking\", data=df)\n",
    "ax.set_xticklabels(column_names, rotation=45, ha='right', fontsize=12)\n",
    "ax.set_xlabel('Feature', fontsize=14)\n",
    "ax.set_ylabel('Ranking', fontsize=14)\n",
    "ax.set_title('Feature Rankings', fontsize=16)\n",
    "plt.show()"
   ]
  },
  {
   "cell_type": "code",
   "execution_count": null,
   "metadata": {
    "colab": {
     "base_uri": "https://localhost:8080/"
    },
    "id": "aFd-OruVq98o",
    "outputId": "4a214968-1e38-4611-c432-69e8864ffb61"
   },
   "outputs": [
    {
     "data": {
      "text/plain": [
       "['pdays']"
      ]
     },
     "execution_count": 298,
     "metadata": {},
     "output_type": "execute_result"
    }
   ],
   "source": [
    "remove_col = variance_threshold_selector(X_train, thresh=0.05)\n",
    "remove_col"
   ]
  },
  {
   "cell_type": "code",
   "execution_count": null,
   "metadata": {
    "id": "zaJfqTTBvapQ"
   },
   "outputs": [],
   "source": [
    "bank_a_df.drop(columns=['contact', 'pdays', 'previous', 'poutcome', 'emp.var.rate', 'cons.price.idx'], inplace=True, axis=1)"
   ]
  },
  {
   "cell_type": "code",
   "execution_count": null,
   "metadata": {
    "colab": {
     "base_uri": "https://localhost:8080/",
     "height": 206
    },
    "id": "8KqrMBZfv7r2",
    "outputId": "58c273c6-9980-48ee-8074-57ff1fb92805"
   },
   "outputs": [
    {
     "data": {
      "text/html": [
       "\n",
       "  <div id=\"df-0b245ab7-44c7-4d50-a76d-09ade5acd472\">\n",
       "    <div class=\"colab-df-container\">\n",
       "      <div>\n",
       "<style scoped>\n",
       "    .dataframe tbody tr th:only-of-type {\n",
       "        vertical-align: middle;\n",
       "    }\n",
       "\n",
       "    .dataframe tbody tr th {\n",
       "        vertical-align: top;\n",
       "    }\n",
       "\n",
       "    .dataframe thead th {\n",
       "        text-align: right;\n",
       "    }\n",
       "</style>\n",
       "<table border=\"1\" class=\"dataframe\">\n",
       "  <thead>\n",
       "    <tr style=\"text-align: right;\">\n",
       "      <th></th>\n",
       "      <th>job</th>\n",
       "      <th>marital</th>\n",
       "      <th>education</th>\n",
       "      <th>default</th>\n",
       "      <th>housing</th>\n",
       "      <th>loan</th>\n",
       "      <th>month</th>\n",
       "      <th>day_of_week</th>\n",
       "      <th>campaign</th>\n",
       "      <th>cons.conf.idx</th>\n",
       "      <th>euribor3m</th>\n",
       "      <th>nr.employed</th>\n",
       "      <th>y</th>\n",
       "      <th>log_age</th>\n",
       "      <th>log_duration</th>\n",
       "    </tr>\n",
       "  </thead>\n",
       "  <tbody>\n",
       "    <tr>\n",
       "      <th>1949</th>\n",
       "      <td>5</td>\n",
       "      <td>0</td>\n",
       "      <td>3</td>\n",
       "      <td>0</td>\n",
       "      <td>0</td>\n",
       "      <td>0</td>\n",
       "      <td>0</td>\n",
       "      <td>4</td>\n",
       "      <td>1</td>\n",
       "      <td>-36.4</td>\n",
       "      <td>4.860</td>\n",
       "      <td>5191.0</td>\n",
       "      <td>0</td>\n",
       "      <td>3.850148</td>\n",
       "      <td>4.234107</td>\n",
       "    </tr>\n",
       "    <tr>\n",
       "      <th>2778</th>\n",
       "      <td>6</td>\n",
       "      <td>0</td>\n",
       "      <td>2</td>\n",
       "      <td>0</td>\n",
       "      <td>1</td>\n",
       "      <td>0</td>\n",
       "      <td>2</td>\n",
       "      <td>1</td>\n",
       "      <td>2</td>\n",
       "      <td>-42.0</td>\n",
       "      <td>4.120</td>\n",
       "      <td>5195.8</td>\n",
       "      <td>0</td>\n",
       "      <td>3.583519</td>\n",
       "      <td>5.420535</td>\n",
       "    </tr>\n",
       "    <tr>\n",
       "      <th>2872</th>\n",
       "      <td>9</td>\n",
       "      <td>0</td>\n",
       "      <td>2</td>\n",
       "      <td>0</td>\n",
       "      <td>1</td>\n",
       "      <td>0</td>\n",
       "      <td>5</td>\n",
       "      <td>3</td>\n",
       "      <td>2</td>\n",
       "      <td>-36.1</td>\n",
       "      <td>4.966</td>\n",
       "      <td>5228.1</td>\n",
       "      <td>0</td>\n",
       "      <td>3.555348</td>\n",
       "      <td>4.762174</td>\n",
       "    </tr>\n",
       "    <tr>\n",
       "      <th>3958</th>\n",
       "      <td>5</td>\n",
       "      <td>1</td>\n",
       "      <td>3</td>\n",
       "      <td>0</td>\n",
       "      <td>0</td>\n",
       "      <td>0</td>\n",
       "      <td>5</td>\n",
       "      <td>0</td>\n",
       "      <td>2</td>\n",
       "      <td>-31.4</td>\n",
       "      <td>0.881</td>\n",
       "      <td>5076.2</td>\n",
       "      <td>0</td>\n",
       "      <td>3.465736</td>\n",
       "      <td>4.672829</td>\n",
       "    </tr>\n",
       "    <tr>\n",
       "      <th>44</th>\n",
       "      <td>8</td>\n",
       "      <td>0</td>\n",
       "      <td>5</td>\n",
       "      <td>0</td>\n",
       "      <td>0</td>\n",
       "      <td>2</td>\n",
       "      <td>0</td>\n",
       "      <td>0</td>\n",
       "      <td>1</td>\n",
       "      <td>-46.2</td>\n",
       "      <td>1.313</td>\n",
       "      <td>5099.1</td>\n",
       "      <td>0</td>\n",
       "      <td>3.465736</td>\n",
       "      <td>5.828946</td>\n",
       "    </tr>\n",
       "  </tbody>\n",
       "</table>\n",
       "</div>\n",
       "      <button class=\"colab-df-convert\" onclick=\"convertToInteractive('df-0b245ab7-44c7-4d50-a76d-09ade5acd472')\"\n",
       "              title=\"Convert this dataframe to an interactive table.\"\n",
       "              style=\"display:none;\">\n",
       "        \n",
       "  <svg xmlns=\"http://www.w3.org/2000/svg\" height=\"24px\"viewBox=\"0 0 24 24\"\n",
       "       width=\"24px\">\n",
       "    <path d=\"M0 0h24v24H0V0z\" fill=\"none\"/>\n",
       "    <path d=\"M18.56 5.44l.94 2.06.94-2.06 2.06-.94-2.06-.94-.94-2.06-.94 2.06-2.06.94zm-11 1L8.5 8.5l.94-2.06 2.06-.94-2.06-.94L8.5 2.5l-.94 2.06-2.06.94zm10 10l.94 2.06.94-2.06 2.06-.94-2.06-.94-.94-2.06-.94 2.06-2.06.94z\"/><path d=\"M17.41 7.96l-1.37-1.37c-.4-.4-.92-.59-1.43-.59-.52 0-1.04.2-1.43.59L10.3 9.45l-7.72 7.72c-.78.78-.78 2.05 0 2.83L4 21.41c.39.39.9.59 1.41.59.51 0 1.02-.2 1.41-.59l7.78-7.78 2.81-2.81c.8-.78.8-2.07 0-2.86zM5.41 20L4 18.59l7.72-7.72 1.47 1.35L5.41 20z\"/>\n",
       "  </svg>\n",
       "      </button>\n",
       "      \n",
       "  <style>\n",
       "    .colab-df-container {\n",
       "      display:flex;\n",
       "      flex-wrap:wrap;\n",
       "      gap: 12px;\n",
       "    }\n",
       "\n",
       "    .colab-df-convert {\n",
       "      background-color: #E8F0FE;\n",
       "      border: none;\n",
       "      border-radius: 50%;\n",
       "      cursor: pointer;\n",
       "      display: none;\n",
       "      fill: #1967D2;\n",
       "      height: 32px;\n",
       "      padding: 0 0 0 0;\n",
       "      width: 32px;\n",
       "    }\n",
       "\n",
       "    .colab-df-convert:hover {\n",
       "      background-color: #E2EBFA;\n",
       "      box-shadow: 0px 1px 2px rgba(60, 64, 67, 0.3), 0px 1px 3px 1px rgba(60, 64, 67, 0.15);\n",
       "      fill: #174EA6;\n",
       "    }\n",
       "\n",
       "    [theme=dark] .colab-df-convert {\n",
       "      background-color: #3B4455;\n",
       "      fill: #D2E3FC;\n",
       "    }\n",
       "\n",
       "    [theme=dark] .colab-df-convert:hover {\n",
       "      background-color: #434B5C;\n",
       "      box-shadow: 0px 1px 3px 1px rgba(0, 0, 0, 0.15);\n",
       "      filter: drop-shadow(0px 1px 2px rgba(0, 0, 0, 0.3));\n",
       "      fill: #FFFFFF;\n",
       "    }\n",
       "  </style>\n",
       "\n",
       "      <script>\n",
       "        const buttonEl =\n",
       "          document.querySelector('#df-0b245ab7-44c7-4d50-a76d-09ade5acd472 button.colab-df-convert');\n",
       "        buttonEl.style.display =\n",
       "          google.colab.kernel.accessAllowed ? 'block' : 'none';\n",
       "\n",
       "        async function convertToInteractive(key) {\n",
       "          const element = document.querySelector('#df-0b245ab7-44c7-4d50-a76d-09ade5acd472');\n",
       "          const dataTable =\n",
       "            await google.colab.kernel.invokeFunction('convertToInteractive',\n",
       "                                                     [key], {});\n",
       "          if (!dataTable) return;\n",
       "\n",
       "          const docLinkHtml = 'Like what you see? Visit the ' +\n",
       "            '<a target=\"_blank\" href=https://colab.research.google.com/notebooks/data_table.ipynb>data table notebook</a>'\n",
       "            + ' to learn more about interactive tables.';\n",
       "          element.innerHTML = '';\n",
       "          dataTable['output_type'] = 'display_data';\n",
       "          await google.colab.output.renderOutput(dataTable, element);\n",
       "          const docLink = document.createElement('div');\n",
       "          docLink.innerHTML = docLinkHtml;\n",
       "          element.appendChild(docLink);\n",
       "        }\n",
       "      </script>\n",
       "    </div>\n",
       "  </div>\n",
       "  "
      ],
      "text/plain": [
       "      job  marital  education  default  housing  loan  month  day_of_week  \\\n",
       "1949    5        0          3        0        0     0      0            4   \n",
       "2778    6        0          2        0        1     0      2            1   \n",
       "2872    9        0          2        0        1     0      5            3   \n",
       "3958    5        1          3        0        0     0      5            0   \n",
       "44      8        0          5        0        0     2      0            0   \n",
       "\n",
       "      campaign  cons.conf.idx  euribor3m  nr.employed  y   log_age  \\\n",
       "1949         1          -36.4      4.860       5191.0  0  3.850148   \n",
       "2778         2          -42.0      4.120       5195.8  0  3.583519   \n",
       "2872         2          -36.1      4.966       5228.1  0  3.555348   \n",
       "3958         2          -31.4      0.881       5076.2  0  3.465736   \n",
       "44           1          -46.2      1.313       5099.1  0  3.465736   \n",
       "\n",
       "      log_duration  \n",
       "1949      4.234107  \n",
       "2778      5.420535  \n",
       "2872      4.762174  \n",
       "3958      4.672829  \n",
       "44        5.828946  "
      ]
     },
     "execution_count": 300,
     "metadata": {},
     "output_type": "execute_result"
    }
   ],
   "source": [
    "bank_a_df.sample(5)"
   ]
  },
  {
   "cell_type": "code",
   "execution_count": null,
   "metadata": {
    "colab": {
     "base_uri": "https://localhost:8080/"
    },
    "id": "dBxXyzvJwJPM",
    "outputId": "d23d6e10-54e4-4d25-a74d-22766884c9f8"
   },
   "outputs": [
    {
     "data": {
      "text/plain": [
       "0    3480\n",
       "1     339\n",
       "Name: y, dtype: int64"
      ]
     },
     "execution_count": 301,
     "metadata": {},
     "output_type": "execute_result"
    }
   ],
   "source": [
    "bank_a_df['y'].value_counts()"
   ]
  },
  {
   "cell_type": "markdown",
   "metadata": {
    "id": "jbjgKWZywSzu"
   },
   "source": [
    "# Save the clean data frame"
   ]
  },
  {
   "cell_type": "code",
   "execution_count": null,
   "metadata": {
    "id": "_CC69H7qwbF_"
   },
   "outputs": [],
   "source": [
    "bank_a_df.to_csv('bank-additional-clean.csv', sep=\";\", index=False)"
   ]
  },
  {
   "cell_type": "markdown",
   "metadata": {
    "id": "EUt7nDmzwqx9"
   },
   "source": [
    "<hr/>"
   ]
  },
  {
   "cell_type": "markdown",
   "metadata": {
    "id": "xiv8juXCwtZG"
   },
   "source": [
    "<hr/>"
   ]
  },
  {
   "cell_type": "markdown",
   "metadata": {
    "id": "tpfg32eRwwPV"
   },
   "source": [
    "# Second Data Frame"
   ]
  },
  {
   "cell_type": "code",
   "execution_count": null,
   "metadata": {
    "id": "KdCkAhBjxfZV"
   },
   "outputs": [],
   "source": [
    "# Second Dataframe is baf_df\n",
    "baf_df = pd.read_csv('/content/bank-additional-full.csv', sep=';')"
   ]
  },
  {
   "cell_type": "code",
   "execution_count": null,
   "metadata": {
    "colab": {
     "base_uri": "https://localhost:8080/",
     "height": 300
    },
    "id": "MbxG8Z0uxyXk",
    "outputId": "cfdd0d01-c43c-4522-d122-8fc071d2b36c"
   },
   "outputs": [
    {
     "data": {
      "text/html": [
       "\n",
       "  <div id=\"df-684ac2d5-00a4-4d56-aebd-cd680763b025\">\n",
       "    <div class=\"colab-df-container\">\n",
       "      <div>\n",
       "<style scoped>\n",
       "    .dataframe tbody tr th:only-of-type {\n",
       "        vertical-align: middle;\n",
       "    }\n",
       "\n",
       "    .dataframe tbody tr th {\n",
       "        vertical-align: top;\n",
       "    }\n",
       "\n",
       "    .dataframe thead th {\n",
       "        text-align: right;\n",
       "    }\n",
       "</style>\n",
       "<table border=\"1\" class=\"dataframe\">\n",
       "  <thead>\n",
       "    <tr style=\"text-align: right;\">\n",
       "      <th></th>\n",
       "      <th>age</th>\n",
       "      <th>job</th>\n",
       "      <th>marital</th>\n",
       "      <th>education</th>\n",
       "      <th>default</th>\n",
       "      <th>housing</th>\n",
       "      <th>loan</th>\n",
       "      <th>contact</th>\n",
       "      <th>month</th>\n",
       "      <th>day_of_week</th>\n",
       "      <th>...</th>\n",
       "      <th>campaign</th>\n",
       "      <th>pdays</th>\n",
       "      <th>previous</th>\n",
       "      <th>poutcome</th>\n",
       "      <th>emp.var.rate</th>\n",
       "      <th>cons.price.idx</th>\n",
       "      <th>cons.conf.idx</th>\n",
       "      <th>euribor3m</th>\n",
       "      <th>nr.employed</th>\n",
       "      <th>y</th>\n",
       "    </tr>\n",
       "  </thead>\n",
       "  <tbody>\n",
       "    <tr>\n",
       "      <th>0</th>\n",
       "      <td>56</td>\n",
       "      <td>housemaid</td>\n",
       "      <td>married</td>\n",
       "      <td>basic.4y</td>\n",
       "      <td>no</td>\n",
       "      <td>no</td>\n",
       "      <td>no</td>\n",
       "      <td>telephone</td>\n",
       "      <td>may</td>\n",
       "      <td>mon</td>\n",
       "      <td>...</td>\n",
       "      <td>1</td>\n",
       "      <td>999</td>\n",
       "      <td>0</td>\n",
       "      <td>nonexistent</td>\n",
       "      <td>1.1</td>\n",
       "      <td>93.994</td>\n",
       "      <td>-36.4</td>\n",
       "      <td>4.857</td>\n",
       "      <td>5191.0</td>\n",
       "      <td>no</td>\n",
       "    </tr>\n",
       "    <tr>\n",
       "      <th>1</th>\n",
       "      <td>57</td>\n",
       "      <td>services</td>\n",
       "      <td>married</td>\n",
       "      <td>high.school</td>\n",
       "      <td>unknown</td>\n",
       "      <td>no</td>\n",
       "      <td>no</td>\n",
       "      <td>telephone</td>\n",
       "      <td>may</td>\n",
       "      <td>mon</td>\n",
       "      <td>...</td>\n",
       "      <td>1</td>\n",
       "      <td>999</td>\n",
       "      <td>0</td>\n",
       "      <td>nonexistent</td>\n",
       "      <td>1.1</td>\n",
       "      <td>93.994</td>\n",
       "      <td>-36.4</td>\n",
       "      <td>4.857</td>\n",
       "      <td>5191.0</td>\n",
       "      <td>no</td>\n",
       "    </tr>\n",
       "    <tr>\n",
       "      <th>2</th>\n",
       "      <td>37</td>\n",
       "      <td>services</td>\n",
       "      <td>married</td>\n",
       "      <td>high.school</td>\n",
       "      <td>no</td>\n",
       "      <td>yes</td>\n",
       "      <td>no</td>\n",
       "      <td>telephone</td>\n",
       "      <td>may</td>\n",
       "      <td>mon</td>\n",
       "      <td>...</td>\n",
       "      <td>1</td>\n",
       "      <td>999</td>\n",
       "      <td>0</td>\n",
       "      <td>nonexistent</td>\n",
       "      <td>1.1</td>\n",
       "      <td>93.994</td>\n",
       "      <td>-36.4</td>\n",
       "      <td>4.857</td>\n",
       "      <td>5191.0</td>\n",
       "      <td>no</td>\n",
       "    </tr>\n",
       "    <tr>\n",
       "      <th>3</th>\n",
       "      <td>40</td>\n",
       "      <td>admin.</td>\n",
       "      <td>married</td>\n",
       "      <td>basic.6y</td>\n",
       "      <td>no</td>\n",
       "      <td>no</td>\n",
       "      <td>no</td>\n",
       "      <td>telephone</td>\n",
       "      <td>may</td>\n",
       "      <td>mon</td>\n",
       "      <td>...</td>\n",
       "      <td>1</td>\n",
       "      <td>999</td>\n",
       "      <td>0</td>\n",
       "      <td>nonexistent</td>\n",
       "      <td>1.1</td>\n",
       "      <td>93.994</td>\n",
       "      <td>-36.4</td>\n",
       "      <td>4.857</td>\n",
       "      <td>5191.0</td>\n",
       "      <td>no</td>\n",
       "    </tr>\n",
       "    <tr>\n",
       "      <th>4</th>\n",
       "      <td>56</td>\n",
       "      <td>services</td>\n",
       "      <td>married</td>\n",
       "      <td>high.school</td>\n",
       "      <td>no</td>\n",
       "      <td>no</td>\n",
       "      <td>yes</td>\n",
       "      <td>telephone</td>\n",
       "      <td>may</td>\n",
       "      <td>mon</td>\n",
       "      <td>...</td>\n",
       "      <td>1</td>\n",
       "      <td>999</td>\n",
       "      <td>0</td>\n",
       "      <td>nonexistent</td>\n",
       "      <td>1.1</td>\n",
       "      <td>93.994</td>\n",
       "      <td>-36.4</td>\n",
       "      <td>4.857</td>\n",
       "      <td>5191.0</td>\n",
       "      <td>no</td>\n",
       "    </tr>\n",
       "  </tbody>\n",
       "</table>\n",
       "<p>5 rows × 21 columns</p>\n",
       "</div>\n",
       "      <button class=\"colab-df-convert\" onclick=\"convertToInteractive('df-684ac2d5-00a4-4d56-aebd-cd680763b025')\"\n",
       "              title=\"Convert this dataframe to an interactive table.\"\n",
       "              style=\"display:none;\">\n",
       "        \n",
       "  <svg xmlns=\"http://www.w3.org/2000/svg\" height=\"24px\"viewBox=\"0 0 24 24\"\n",
       "       width=\"24px\">\n",
       "    <path d=\"M0 0h24v24H0V0z\" fill=\"none\"/>\n",
       "    <path d=\"M18.56 5.44l.94 2.06.94-2.06 2.06-.94-2.06-.94-.94-2.06-.94 2.06-2.06.94zm-11 1L8.5 8.5l.94-2.06 2.06-.94-2.06-.94L8.5 2.5l-.94 2.06-2.06.94zm10 10l.94 2.06.94-2.06 2.06-.94-2.06-.94-.94-2.06-.94 2.06-2.06.94z\"/><path d=\"M17.41 7.96l-1.37-1.37c-.4-.4-.92-.59-1.43-.59-.52 0-1.04.2-1.43.59L10.3 9.45l-7.72 7.72c-.78.78-.78 2.05 0 2.83L4 21.41c.39.39.9.59 1.41.59.51 0 1.02-.2 1.41-.59l7.78-7.78 2.81-2.81c.8-.78.8-2.07 0-2.86zM5.41 20L4 18.59l7.72-7.72 1.47 1.35L5.41 20z\"/>\n",
       "  </svg>\n",
       "      </button>\n",
       "      \n",
       "  <style>\n",
       "    .colab-df-container {\n",
       "      display:flex;\n",
       "      flex-wrap:wrap;\n",
       "      gap: 12px;\n",
       "    }\n",
       "\n",
       "    .colab-df-convert {\n",
       "      background-color: #E8F0FE;\n",
       "      border: none;\n",
       "      border-radius: 50%;\n",
       "      cursor: pointer;\n",
       "      display: none;\n",
       "      fill: #1967D2;\n",
       "      height: 32px;\n",
       "      padding: 0 0 0 0;\n",
       "      width: 32px;\n",
       "    }\n",
       "\n",
       "    .colab-df-convert:hover {\n",
       "      background-color: #E2EBFA;\n",
       "      box-shadow: 0px 1px 2px rgba(60, 64, 67, 0.3), 0px 1px 3px 1px rgba(60, 64, 67, 0.15);\n",
       "      fill: #174EA6;\n",
       "    }\n",
       "\n",
       "    [theme=dark] .colab-df-convert {\n",
       "      background-color: #3B4455;\n",
       "      fill: #D2E3FC;\n",
       "    }\n",
       "\n",
       "    [theme=dark] .colab-df-convert:hover {\n",
       "      background-color: #434B5C;\n",
       "      box-shadow: 0px 1px 3px 1px rgba(0, 0, 0, 0.15);\n",
       "      filter: drop-shadow(0px 1px 2px rgba(0, 0, 0, 0.3));\n",
       "      fill: #FFFFFF;\n",
       "    }\n",
       "  </style>\n",
       "\n",
       "      <script>\n",
       "        const buttonEl =\n",
       "          document.querySelector('#df-684ac2d5-00a4-4d56-aebd-cd680763b025 button.colab-df-convert');\n",
       "        buttonEl.style.display =\n",
       "          google.colab.kernel.accessAllowed ? 'block' : 'none';\n",
       "\n",
       "        async function convertToInteractive(key) {\n",
       "          const element = document.querySelector('#df-684ac2d5-00a4-4d56-aebd-cd680763b025');\n",
       "          const dataTable =\n",
       "            await google.colab.kernel.invokeFunction('convertToInteractive',\n",
       "                                                     [key], {});\n",
       "          if (!dataTable) return;\n",
       "\n",
       "          const docLinkHtml = 'Like what you see? Visit the ' +\n",
       "            '<a target=\"_blank\" href=https://colab.research.google.com/notebooks/data_table.ipynb>data table notebook</a>'\n",
       "            + ' to learn more about interactive tables.';\n",
       "          element.innerHTML = '';\n",
       "          dataTable['output_type'] = 'display_data';\n",
       "          await google.colab.output.renderOutput(dataTable, element);\n",
       "          const docLink = document.createElement('div');\n",
       "          docLink.innerHTML = docLinkHtml;\n",
       "          element.appendChild(docLink);\n",
       "        }\n",
       "      </script>\n",
       "    </div>\n",
       "  </div>\n",
       "  "
      ],
      "text/plain": [
       "   age        job  marital    education  default housing loan    contact  \\\n",
       "0   56  housemaid  married     basic.4y       no      no   no  telephone   \n",
       "1   57   services  married  high.school  unknown      no   no  telephone   \n",
       "2   37   services  married  high.school       no     yes   no  telephone   \n",
       "3   40     admin.  married     basic.6y       no      no   no  telephone   \n",
       "4   56   services  married  high.school       no      no  yes  telephone   \n",
       "\n",
       "  month day_of_week  ...  campaign  pdays  previous     poutcome emp.var.rate  \\\n",
       "0   may         mon  ...         1    999         0  nonexistent          1.1   \n",
       "1   may         mon  ...         1    999         0  nonexistent          1.1   \n",
       "2   may         mon  ...         1    999         0  nonexistent          1.1   \n",
       "3   may         mon  ...         1    999         0  nonexistent          1.1   \n",
       "4   may         mon  ...         1    999         0  nonexistent          1.1   \n",
       "\n",
       "   cons.price.idx  cons.conf.idx  euribor3m  nr.employed   y  \n",
       "0          93.994          -36.4      4.857       5191.0  no  \n",
       "1          93.994          -36.4      4.857       5191.0  no  \n",
       "2          93.994          -36.4      4.857       5191.0  no  \n",
       "3          93.994          -36.4      4.857       5191.0  no  \n",
       "4          93.994          -36.4      4.857       5191.0  no  \n",
       "\n",
       "[5 rows x 21 columns]"
      ]
     },
     "execution_count": 308,
     "metadata": {},
     "output_type": "execute_result"
    }
   ],
   "source": [
    "baf_df.head()"
   ]
  },
  {
   "cell_type": "code",
   "execution_count": null,
   "metadata": {
    "colab": {
     "base_uri": "https://localhost:8080/"
    },
    "id": "kqiAO2y5x0pR",
    "outputId": "eeb24e44-14ed-4239-d0ee-a9075ccb1110"
   },
   "outputs": [
    {
     "data": {
      "text/plain": [
       "(41188, 21)"
      ]
     },
     "execution_count": 309,
     "metadata": {},
     "output_type": "execute_result"
    }
   ],
   "source": [
    "baf_df.shape"
   ]
  },
  {
   "cell_type": "code",
   "execution_count": null,
   "metadata": {
    "colab": {
     "base_uri": "https://localhost:8080/"
    },
    "id": "pHoJs_KJx8ln",
    "outputId": "75a5312f-e8dc-41c4-810a-fee7e44d0e20"
   },
   "outputs": [
    {
     "name": "stdout",
     "output_type": "stream",
     "text": [
      "Any NaN values? False\n",
      "Any duplicates? True\n"
     ]
    }
   ],
   "source": [
    "print(f'Any NaN values? {baf_df.isna().values.any()}')\n",
    "print(f'Any duplicates? {baf_df.duplicated().values.any()}')"
   ]
  },
  {
   "cell_type": "code",
   "execution_count": null,
   "metadata": {
    "colab": {
     "base_uri": "https://localhost:8080/"
    },
    "id": "YK7Ig_s6zvhQ",
    "outputId": "a142d019-dac1-4663-f168-73a803cbe820"
   },
   "outputs": [
    {
     "name": "stdout",
     "output_type": "stream",
     "text": [
      "Nr. of duplicated rows: 12\n"
     ]
    }
   ],
   "source": [
    "print( f\"Nr. of duplicated rows: {baf_df.duplicated().sum()}\")"
   ]
  },
  {
   "cell_type": "code",
   "execution_count": null,
   "metadata": {
    "colab": {
     "base_uri": "https://localhost:8080/"
    },
    "id": "1x3NIsLSz0Vo",
    "outputId": "010adc22-dcaa-4681-d53e-2a3dcd0beb2d"
   },
   "outputs": [
    {
     "name": "stdout",
     "output_type": "stream",
     "text": [
      "Any duplicates? False\n"
     ]
    }
   ],
   "source": [
    "baf_df = baf_df.drop_duplicates()\n",
    "print(f'Any duplicates? {baf_df.duplicated().values.any()}')"
   ]
  },
  {
   "cell_type": "markdown",
   "metadata": {
    "id": "d_TgDBNa0OWN"
   },
   "source": [
    "There are no Nan values or duplicate rows in bank full dataframe. Let's check for outliers."
   ]
  },
  {
   "cell_type": "code",
   "execution_count": null,
   "metadata": {
    "colab": {
     "base_uri": "https://localhost:8080/",
     "height": 729
    },
    "id": "xUA5WYNj0VUW",
    "outputId": "7a56c2ea-1d17-4b48-dfb9-72bc0b3d8b98"
   },
   "outputs": [
    {
     "data": {
      "image/png": "[encoded data removed]",
      "text/plain": [
       "<Figure size 1080x864 with 10 Axes>"
      ]
     },
     "metadata": {},
     "output_type": "display_data"
    }
   ],
   "source": [
    "dataset1 = baf_df.drop(columns=['job','marital', 'education', 'default', 'housing',\n",
    "       'loan', 'contact','month','day_of_week','poutcome','y'])\n",
    "\n",
    "fig = plt.figure(figsize=(15,12))\n",
    "plt.suptitle(\"Histogram of numerical column\", fontsize=20)\n",
    "\n",
    "for i in range(dataset1.shape[1]):\n",
    "    plt.subplot(6,2,i+1)\n",
    "    f= plt.gca()\n",
    "    f.set_title(dataset1.columns.values[i])\n",
    "    \n",
    "    vals = np.size(dataset1.iloc[:,i].unique())\n",
    "    if vals>=100:\n",
    "        vals=100\n",
    "    \n",
    "    plt.hist(dataset1.iloc[:,i], bins= vals, color=\"#2B3467\")\n",
    "    \n",
    "plt.tight_layout(rect=[0,0.03,1,0.95])"
   ]
  },
  {
   "cell_type": "markdown",
   "metadata": {
    "id": "xAA-KFWI1fpn"
   },
   "source": [
    "Let's check lower outliers"
   ]
  },
  {
   "cell_type": "code",
   "execution_count": null,
   "metadata": {
    "colab": {
     "base_uri": "https://localhost:8080/"
    },
    "id": "jW4uKe0w1hIN",
    "outputId": "15fc7817-bcd6-4665-f73f-bb8036a55963"
   },
   "outputs": [
    {
     "name": "stdout",
     "output_type": "stream",
     "text": [
      "age\n",
      "How many outliers are there: 0\n",
      "[]\n",
      "duration\n",
      "How many outliers are there: 0\n",
      "[]\n",
      "campaign\n",
      "How many outliers are there: 0\n",
      "[]\n",
      "pdays\n",
      "How many outliers are there: 1515\n",
      "[19, 20, 21, 21, 22, 22, 22, 25, 26, 27]\n",
      "previous\n",
      "How many outliers are there: 0\n",
      "[]\n",
      "emp.var.rate\n",
      "How many outliers are there: 0\n",
      "[]\n",
      "cons.price.idx\n",
      "How many outliers are there: 0\n",
      "[]\n",
      "cons.conf.idx\n",
      "How many outliers are there: 0\n",
      "[]\n",
      "euribor3m\n",
      "How many outliers are there: 0\n",
      "[]\n",
      "nr.employed\n",
      "How many outliers are there: 0\n",
      "[]\n"
     ]
    }
   ],
   "source": [
    "for col_name in numerical_cols:\n",
    "  print(col_name)\n",
    "  outliers = find_lower_outliers(baf_df, col_name)"
   ]
  },
  {
   "cell_type": "markdown",
   "metadata": {
    "id": "Yc9clo5E2Q0D"
   },
   "source": [
    "Only the PDAYS column has lower outliers. Let's check upper outliers"
   ]
  },
  {
   "cell_type": "code",
   "execution_count": null,
   "metadata": {
    "colab": {
     "base_uri": "https://localhost:8080/"
    },
    "id": "Uh6gTXlt2R_r",
    "outputId": "566543e6-6fbb-4b78-f788-dc5289de0276"
   },
   "outputs": [
    {
     "name": "stdout",
     "output_type": "stream",
     "text": [
      "age\n",
      "How many outliers are there: 369\n",
      "[72, 72, 72, 72, 72, 72, 72, 72, 72, 72]\n",
      "duration\n",
      "How many outliers are there: 861\n",
      "[1037, 1037, 1037, 1038, 1038, 1038, 1038, 1039, 1040, 1041]\n",
      "campaign\n",
      "How many outliers are there: 869\n",
      "[11, 11, 11, 11, 11, 11, 11, 11, 11, 11]\n",
      "pdays\n",
      "How many outliers are there: 0\n",
      "[]\n",
      "previous\n",
      "How many outliers are there: 1064\n",
      "[2, 2, 2, 2, 2, 2, 2, 2, 2, 2]\n",
      "emp.var.rate\n",
      "How many outliers are there: 0\n",
      "[]\n",
      "cons.price.idx\n",
      "How many outliers are there: 0\n",
      "[]\n",
      "cons.conf.idx\n",
      "How many outliers are there: 0\n",
      "[]\n",
      "euribor3m\n",
      "How many outliers are there: 0\n",
      "[]\n",
      "nr.employed\n",
      "How many outliers are there: 0\n",
      "[]\n"
     ]
    }
   ],
   "source": [
    "for col_name in numerical_cols:\n",
    "  print(col_name)\n",
    "  outliers = find_upper_outliers(baf_df, col_name)"
   ]
  },
  {
   "cell_type": "markdown",
   "metadata": {
    "id": "XRP8TZka2n3r"
   },
   "source": [
    "Age, duration, campaign and previous columns have upper outliers."
   ]
  },
  {
   "cell_type": "markdown",
   "metadata": {
    "id": "vlvok5ua2t7K"
   },
   "source": [
    "## Handling Outliers"
   ]
  },
  {
   "cell_type": "code",
   "execution_count": null,
   "metadata": {
    "id": "EbW33q9T2xkR"
   },
   "outputs": [],
   "source": [
    "# pdays: drop outliers \n",
    "# campaign: drop outliers\n",
    "# previous: drop outliers\n",
    "# for age and duration columns apply logorithmic transformation"
   ]
  },
  {
   "cell_type": "code",
   "execution_count": null,
   "metadata": {
    "colab": {
     "base_uri": "https://localhost:8080/"
    },
    "id": "57yw_EJB3eHY",
    "outputId": "6be0d7a8-dc39-42e9-bdd4-107cfddb972f"
   },
   "outputs": [
    {
     "data": {
      "text/plain": [
       "(39661, 21)"
      ]
     },
     "execution_count": 318,
     "metadata": {},
     "output_type": "execute_result"
    }
   ],
   "source": [
    "# dropping outliers from pdays column\n",
    "baf_df = baf_df[baf_df['pdays'] > 27]\n",
    "baf_df.shape"
   ]
  },
  {
   "cell_type": "code",
   "execution_count": null,
   "metadata": {
    "id": "j3rm6NC532wY"
   },
   "outputs": [],
   "source": [
    "# dropping outliers from campaign column\n",
    "baf_df = baf_df[baf_df['campaign'] > 27]\n",
    "baf_df.shape"
   ]
  }
 ],
 "metadata": {
  "colab": {
   "provenance": []
  },
  "kernelspec": {
   "display_name": "Python 3 (ipykernel)",
   "language": "python",
   "name": "python3"
  },
  "language_info": {
   "codemirror_mode": {
    "name": "ipython",
    "version": 3
   },
   "file_extension": ".py",
   "mimetype": "text/x-python",
   "name": "python",
   "nbconvert_exporter": "python",
   "pygments_lexer": "ipython3",
   "version": "3.9.12"
  }
 },
 "nbformat": 4,
 "nbformat_minor": 1
}
