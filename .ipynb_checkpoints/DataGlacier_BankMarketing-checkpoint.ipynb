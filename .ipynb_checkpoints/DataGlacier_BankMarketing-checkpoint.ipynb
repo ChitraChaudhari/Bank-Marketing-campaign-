{
 "cells": [
  {
   "cell_type": "markdown",
   "metadata": {
    "id": "1w3a6Y2rMR-N"
   },
   "source": [
    "<img src=\"https://www.talk-business.co.uk/wp-content/uploads/2015/09/bank_128318117.jpg\" width=\"100%\" height=\"300px\">"
   ]
  },
  {
   "cell_type": "code",
   "execution_count": 1,
   "metadata": {
    "id": "AyG-eM9UOqwf"
   },
   "outputs": [],
   "source": [
    "# I think we could find a better image with a better width"
   ]
  },
  {
   "cell_type": "markdown",
   "metadata": {
    "id": "50HAwdFuH6K9"
   },
   "source": [
    "# Data Glacier Data Science:: Bank Marketing (Campaign) -- Group Project\n",
    "# Bank Marketing (Campaign)\n",
    " \n",
    "\n",
    "Problem Statement:\n",
    "\n",
    "ABC Bank wants to sell it's term deposit product to customers and before launching the product they want to develop a model which help them in understanding whether a particular customer will buy their product or not (based on customer's past interaction with bank or other Financial Institution).\n",
    "\n",
    " \n",
    "\n",
    "Why ML Model: Bank wants to use ML model to shortlist customer whose chances of buying the product is more so that their marketing channel (tele marketing, SMS/email marketing etc)  can focus only to those customers whose chances of buying the product is more.\n",
    "\n",
    "This will save resource and their time ( which is directly involved in the cost ( resource billing)).\n",
    "\n",
    "Develop model with Duration and without duration feature and report the performance of the model.\n",
    "\n",
    "Duration feature is not recommended as this will be difficult to explain the result to business and also it will\n",
    "\n",
    "be difficult for business to campaign based on duration."
   ]
  },
  {
   "cell_type": "markdown",
   "metadata": {
    "id": "PiOIKVqcGBX5"
   },
   "source": [
    "# Imports\n"
   ]
  },
  {
   "cell_type": "code",
   "execution_count": null,
   "metadata": {
    "id": "0dAGFbXR0v84"
   },
   "outputs": [],
   "source": [
    "!pip install modin"
   ]
  },
  {
   "cell_type": "code",
   "execution_count": null,
   "metadata": {
    "id": "tTxkyca20QHR"
   },
   "outputs": [],
   "source": [
    "import modin.pandas as pd"
   ]
  },
  {
   "cell_type": "markdown",
   "metadata": {
    "id": "rL1Z5psl1HMg"
   },
   "source": [
    "# Data Validation"
   ]
  },
  {
   "cell_type": "code",
   "execution_count": null,
   "metadata": {
    "id": "kK_T8IQT2TJN"
   },
   "outputs": [],
   "source": [
    "from distributed import Client\n",
    "client = Client()"
   ]
  },
  {
   "cell_type": "code",
   "execution_count": null,
   "metadata": {
    "id": "Ol9kq6bG1KiQ"
   },
   "outputs": [],
   "source": [
    "bank_df = pd.read_csv('bank.csv', sep=';')\n",
    "bank_full_df = pd.read_csv('/content/bank-full.csv', sep=';')\n",
    "ba_df = pd.read_csv('/content/bank-additional.csv', sep=';')\n",
    "baf_df = pd.read_csv('/content/bank-additional-full.csv', sep=';')"
   ]
  },
  {
   "cell_type": "code",
   "execution_count": null,
   "metadata": {
    "id": "TzPu040i2Cdg"
   },
   "outputs": [],
   "source": [
    "new_baf_df = baf_df.drop_duplicates()"
   ]
  },
  {
   "cell_type": "code",
   "execution_count": null,
   "metadata": {
    "colab": {
     "base_uri": "https://localhost:8080/"
    },
    "id": "TEoY-S4H2bEV",
    "outputId": "928854d4-4480-4ba8-a972-2a776a4fe2ba"
   },
   "outputs": [],
   "source": [
    "bank_df.shape"
   ]
  },
  {
   "cell_type": "code",
   "execution_count": null,
   "metadata": {
    "colab": {
     "base_uri": "https://localhost:8080/"
    },
    "id": "d7uh_hXg2dui",
    "outputId": "c7a27228-1e6e-4a50-b8a4-1e02a1b82651"
   },
   "outputs": [],
   "source": [
    "if bank_df.shape[0] == 4521 and bank_df.shape[1] == 17:\n",
    "  print('Bank dataframe validated')\n",
    "else:\n",
    "  print('Upload your file again')  "
   ]
  },
  {
   "cell_type": "code",
   "execution_count": null,
   "metadata": {
    "colab": {
     "base_uri": "https://localhost:8080/"
    },
    "id": "O5pBmwQJ3FFk",
    "outputId": "349038b9-7388-4c02-e76b-4f8f1bb6154b"
   },
   "outputs": [],
   "source": [
    "bank_full_df.shape"
   ]
  },
  {
   "cell_type": "code",
   "execution_count": null,
   "metadata": {
    "colab": {
     "base_uri": "https://localhost:8080/"
    },
    "id": "9OGwzfQM3I9P",
    "outputId": "85a108c0-5e50-4e6e-e8f9-535a01836448"
   },
   "outputs": [],
   "source": [
    "if bank_full_df.shape[0] == 45211 and bank_full_df.shape[1] == 17:\n",
    "  print('Bank-Full dataframe validated')\n",
    "else:\n",
    "  print('Upload your file again') "
   ]
  },
  {
   "cell_type": "code",
   "execution_count": null,
   "metadata": {
    "colab": {
     "base_uri": "https://localhost:8080/"
    },
    "id": "ZBoG3XVd3nSD",
    "outputId": "390424b2-7568-495f-9432-5a4646753ad5"
   },
   "outputs": [],
   "source": [
    "ba_df.shape"
   ]
  },
  {
   "cell_type": "code",
   "execution_count": null,
   "metadata": {
    "colab": {
     "base_uri": "https://localhost:8080/"
    },
    "id": "LxcF-Evq3o6e",
    "outputId": "09c91c84-3c6a-4a74-f48b-405d5b16b7ff"
   },
   "outputs": [],
   "source": [
    "if ba_df.shape[0] == 4119 and ba_df.shape[1] == 21:\n",
    "  print('Bank-Additional dataframe validated')\n",
    "else:\n",
    "  print('Upload your file again') "
   ]
  },
  {
   "cell_type": "code",
   "execution_count": null,
   "metadata": {
    "colab": {
     "base_uri": "https://localhost:8080/"
    },
    "id": "dMMXThmC4D1C",
    "outputId": "de835cbe-4321-4d06-c13e-4a6c6cdf59ca"
   },
   "outputs": [],
   "source": [
    "new_baf_df.shape"
   ]
  },
  {
   "cell_type": "code",
   "execution_count": null,
   "metadata": {
    "colab": {
     "base_uri": "https://localhost:8080/"
    },
    "id": "m9GoT64K4GSD",
    "outputId": "da47357d-00bc-4a5e-87d8-ff797f250b78"
   },
   "outputs": [],
   "source": [
    "if new_baf_df.shape[0] == 41176 and new_baf_df.shape[1] == 21:\n",
    "  print('Bank-Additional-Full dataframe validated')\n",
    "else:\n",
    "  print('Upload your file again') "
   ]
  },
  {
   "cell_type": "markdown",
   "metadata": {
    "id": "ouflyI-w4h0x"
   },
   "source": [
    "# Data Exploration"
   ]
  },
  {
   "cell_type": "code",
   "execution_count": null,
   "metadata": {
    "id": "Qzg6mWCr4m6p"
   },
   "outputs": [],
   "source": []
  }
 ],
 "metadata": {
  "colab": {
   "provenance": []
  },
  "kernelspec": {
   "display_name": "Python 3 (ipykernel)",
   "language": "python",
   "name": "python3"
  },
  "language_info": {
   "codemirror_mode": {
    "name": "ipython",
    "version": 3
   },
   "file_extension": ".py",
   "mimetype": "text/x-python",
   "name": "python",
   "nbconvert_exporter": "python",
   "pygments_lexer": "ipython3",
   "version": "3.9.12"
  }
 },
 "nbformat": 4,
 "nbformat_minor": 1
}
